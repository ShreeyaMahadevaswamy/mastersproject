{
 "cells": [
  {
   "cell_type": "code",
   "execution_count": 1,
   "metadata": {
    "colab": {},
    "colab_type": "code",
    "id": "k6zUB1aKsPOF"
   },
   "outputs": [],
   "source": [
    "import pandas as pd\n",
    "import numpy as numpy\n",
    "import pickle\n",
    "\n",
    "from sklearn.feature_extraction.text import TfidfVectorizer\n",
    "from sklearn.decomposition import NMF\n",
    "\n",
    "# Loading lists from pickle files\n",
    "with open('abstract_list.pkl', 'rb') as f:\n",
    "    abstract_list = pickle.load(f)\n",
    "\n",
    "with open('title_list.pkl', 'rb') as f:\n",
    "    title_list = pickle.load(f)"
   ]
  },
  {
   "cell_type": "code",
   "execution_count": 2,
   "metadata": {
    "colab": {},
    "colab_type": "code",
    "id": "5QTOCOjJfmBv"
   },
   "outputs": [
    {
     "data": {
      "text/html": [
       "<div>\n",
       "<style scoped>\n",
       "    .dataframe tbody tr th:only-of-type {\n",
       "        vertical-align: middle;\n",
       "    }\n",
       "\n",
       "    .dataframe tbody tr th {\n",
       "        vertical-align: top;\n",
       "    }\n",
       "\n",
       "    .dataframe thead th {\n",
       "        text-align: right;\n",
       "    }\n",
       "</style>\n",
       "<table border=\"1\" class=\"dataframe\">\n",
       "  <thead>\n",
       "    <tr style=\"text-align: right;\">\n",
       "      <th></th>\n",
       "      <th>Documents</th>\n",
       "    </tr>\n",
       "  </thead>\n",
       "  <tbody>\n",
       "    <tr>\n",
       "      <td>0</td>\n",
       "      <td>we study the electronic states of giant single...</td>\n",
       "    </tr>\n",
       "    <tr>\n",
       "      <td>1</td>\n",
       "      <td>the recursion and pathintegral methods are app...</td>\n",
       "    </tr>\n",
       "    <tr>\n",
       "      <td>2</td>\n",
       "      <td>we analytically study phonon transmission and ...</td>\n",
       "    </tr>\n",
       "    <tr>\n",
       "      <td>3</td>\n",
       "      <td>we study both analytically and numerically pho...</td>\n",
       "    </tr>\n",
       "    <tr>\n",
       "      <td>4</td>\n",
       "      <td>we present a model for thin film growth by par...</td>\n",
       "    </tr>\n",
       "  </tbody>\n",
       "</table>\n",
       "</div>"
      ],
      "text/plain": [
       "                                           Documents\n",
       "0  we study the electronic states of giant single...\n",
       "1  the recursion and pathintegral methods are app...\n",
       "2  we analytically study phonon transmission and ...\n",
       "3  we study both analytically and numerically pho...\n",
       "4  we present a model for thin film growth by par..."
      ]
     },
     "execution_count": 2,
     "metadata": {},
     "output_type": "execute_result"
    }
   ],
   "source": [
    "df = pd.DataFrame(data=abstract_list,columns=['Documents'])\n",
    "df.head()"
   ]
  },
  {
   "cell_type": "code",
   "execution_count": 3,
   "metadata": {
    "colab": {},
    "colab_type": "code",
    "id": "WsFI5b7SpnVj"
   },
   "outputs": [],
   "source": [
    "# Training tf-idf vectorizer on abstract corpus\n",
    "\n",
    "tfidf = TfidfVectorizer(max_df=0.95,min_df=2,stop_words='english')\n",
    "dtm = tfidf.fit_transform(df['Documents'])"
   ]
  },
  {
   "cell_type": "code",
   "execution_count": 4,
   "metadata": {
    "colab": {},
    "colab_type": "code",
    "id": "GeoMPsvagWqr"
   },
   "outputs": [
    {
     "data": {
      "text/plain": [
       "NMF(alpha=0.0, beta_loss='frobenius', init=None, l1_ratio=0.0, max_iter=200,\n",
       "    n_components=5, random_state=100, shuffle=False, solver='cd', tol=0.0001,\n",
       "    verbose=0)"
      ]
     },
     "execution_count": 4,
     "metadata": {},
     "output_type": "execute_result"
    }
   ],
   "source": [
    "# Non-negative matrix factorization on tf-idf matrix\n",
    "\n",
    "nmf_model = NMF(n_components=5,random_state=100)\n",
    "nmf_model.fit(dtm)"
   ]
  },
  {
   "cell_type": "code",
   "execution_count": 5,
   "metadata": {
    "colab": {},
    "colab_type": "code",
    "id": "fDSNDc5VgYv_"
   },
   "outputs": [
    {
     "name": "stdout",
     "output_type": "stream",
     "text": [
      "THE TOP 5 WORDS FOR TOPIC #0\n",
      "['structure', 'density', 'calculations', 'energy', 'surface']\n",
      "\n",
      "\n",
      "\n",
      "\n",
      "THE TOP 5 WORDS FOR TOPIC #1\n",
      "['field', 'magnetization', 'ferromagnetic', 'mn', 'magnetic']\n",
      "\n",
      "\n",
      "\n",
      "\n",
      "THE TOP 5 WORDS FOR TOPIC #2\n",
      "['ferroelectric', 'transition', 'films', 'temperature', 'phase']\n",
      "\n",
      "\n",
      "\n",
      "\n",
      "THE TOP 5 WORDS FOR TOPIC #3\n",
      "['substrate', 'raman', 'carbon', 'layer', 'graphene']\n",
      "\n",
      "\n",
      "\n",
      "\n",
      "THE TOP 5 WORDS FOR TOPIC #4\n",
      "['field', 'relaxation', 'polarization', 'current', 'spin']\n",
      "\n",
      "\n",
      "\n",
      "\n"
     ]
    }
   ],
   "source": [
    "# Printing top 5 words for each topic\n",
    "\n",
    "for i,topic in enumerate(nmf_model.components_):\n",
    "    print(f'THE TOP 5 WORDS FOR TOPIC #{i}')\n",
    "    print([tfidf.get_feature_names()[index] for index in topic.argsort()[-5:]])\n",
    "    print('\\n')\n",
    "    print('\\n')"
   ]
  },
  {
   "cell_type": "code",
   "execution_count": 6,
   "metadata": {
    "colab": {},
    "colab_type": "code",
    "id": "K7MP3D03gfgK"
   },
   "outputs": [
    {
     "data": {
      "text/html": [
       "<div>\n",
       "<style scoped>\n",
       "    .dataframe tbody tr th:only-of-type {\n",
       "        vertical-align: middle;\n",
       "    }\n",
       "\n",
       "    .dataframe tbody tr th {\n",
       "        vertical-align: top;\n",
       "    }\n",
       "\n",
       "    .dataframe thead th {\n",
       "        text-align: right;\n",
       "    }\n",
       "</style>\n",
       "<table border=\"1\" class=\"dataframe\">\n",
       "  <thead>\n",
       "    <tr style=\"text-align: right;\">\n",
       "      <th></th>\n",
       "      <th>Documents</th>\n",
       "      <th>labels</th>\n",
       "    </tr>\n",
       "  </thead>\n",
       "  <tbody>\n",
       "    <tr>\n",
       "      <td>0</td>\n",
       "      <td>we study the electronic states of giant single...</td>\n",
       "      <td>0</td>\n",
       "    </tr>\n",
       "    <tr>\n",
       "      <td>1</td>\n",
       "      <td>the recursion and pathintegral methods are app...</td>\n",
       "      <td>0</td>\n",
       "    </tr>\n",
       "    <tr>\n",
       "      <td>2</td>\n",
       "      <td>we analytically study phonon transmission and ...</td>\n",
       "      <td>0</td>\n",
       "    </tr>\n",
       "    <tr>\n",
       "      <td>3</td>\n",
       "      <td>we study both analytically and numerically pho...</td>\n",
       "      <td>2</td>\n",
       "    </tr>\n",
       "    <tr>\n",
       "      <td>4</td>\n",
       "      <td>we present a model for thin film growth by par...</td>\n",
       "      <td>2</td>\n",
       "    </tr>\n",
       "  </tbody>\n",
       "</table>\n",
       "</div>"
      ],
      "text/plain": [
       "                                           Documents  labels\n",
       "0  we study the electronic states of giant single...       0\n",
       "1  the recursion and pathintegral methods are app...       0\n",
       "2  we analytically study phonon transmission and ...       0\n",
       "3  we study both analytically and numerically pho...       2\n",
       "4  we present a model for thin film growth by par...       2"
      ]
     },
     "execution_count": 6,
     "metadata": {},
     "output_type": "execute_result"
    }
   ],
   "source": [
    "topic_results = nmf_model.transform(dtm)\n",
    "df['labels'] = topic_results.argmax(axis=1)\n",
    "df.head()"
   ]
  },
  {
   "cell_type": "code",
   "execution_count": 7,
   "metadata": {
    "colab": {},
    "colab_type": "code",
    "id": "3mTdKbMXgjV4"
   },
   "outputs": [
    {
     "data": {
      "text/plain": [
       "0    3754\n",
       "2    2879\n",
       "1    1666\n",
       "4    1108\n",
       "3     593\n",
       "Name: labels, dtype: int64"
      ]
     },
     "execution_count": 7,
     "metadata": {},
     "output_type": "execute_result"
    }
   ],
   "source": [
    "df['labels'].value_counts()"
   ]
  }
 ],
 "metadata": {
  "colab": {
   "collapsed_sections": [],
   "name": "topic_modeling",
   "provenance": []
  },
  "kernelspec": {
   "display_name": "Python 3",
   "language": "python",
   "name": "python3"
  },
  "language_info": {
   "codemirror_mode": {
    "name": "ipython",
    "version": 3
   },
   "file_extension": ".py",
   "mimetype": "text/x-python",
   "name": "python",
   "nbconvert_exporter": "python",
   "pygments_lexer": "ipython3",
   "version": "3.7.4"
  }
 },
 "nbformat": 4,
 "nbformat_minor": 1
}
