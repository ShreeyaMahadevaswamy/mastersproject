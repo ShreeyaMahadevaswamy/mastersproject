{
 "cells": [
  {
   "cell_type": "code",
   "execution_count": 1,
   "metadata": {
    "colab": {},
    "colab_type": "code",
    "id": "Da3g0-6gpafj"
   },
   "outputs": [],
   "source": [
    "import numpy as np\n",
    "import pandas as pd\n",
    "import pickle\n",
    "import torch\n",
    "from tqdm.auto import tqdm, trange\n",
    "\n",
    "from build_embeddings_pdf import embedding\n",
    "from flair.embeddings import WordEmbeddings, FlairEmbeddings, DocumentPoolEmbeddings\n",
    "from flair.data import Sentence\n",
    "from sklearn.feature_extraction.text import TfidfVectorizer\n",
    "\n",
    "with open('abstract_list.pkl', 'rb') as f:\n",
    "    abstract_list = pickle.load(f)\n",
    "with open('title_list.pkl', 'rb') as f:\n",
    "    title_list = pickle.load(f)"
   ]
  },
  {
   "cell_type": "code",
   "execution_count": 2,
   "metadata": {
    "colab": {},
    "colab_type": "code",
    "id": "rXdYZvJVr-Xy"
   },
   "outputs": [],
   "source": [
    "vectorizer = TfidfVectorizer(max_df=0.9,min_df=2,stop_words='english')\n",
    "vectorizer.fit(abstract_list)\n",
    "\n",
    "# returns top n elements with most tf-idf values\n",
    "def find_top_n(text,n):\n",
    "\n",
    "    response = vectorizer.transform([text])\n",
    "\n",
    "    feature_array = np.array(vectorizer.get_feature_names())\n",
    "    tfidf_sorting = np.argsort(response.toarray()).flatten()[::-1]\n",
    "\n",
    "    return feature_array[tfidf_sorting][:n]"
   ]
  },
  {
   "cell_type": "code",
   "execution_count": 3,
   "metadata": {
    "colab": {
     "base_uri": "https://localhost:8080/",
     "height": 357
    },
    "colab_type": "code",
    "id": "RW-dSIf5sjE5",
    "outputId": "3b17aa96-0f48-4aae-c4dd-22437f3f1449"
   },
   "outputs": [],
   "source": [
    "words_tfidf = []\n",
    "\n",
    "# Concatenating tf-idf words into sentences\n",
    "for text in abstract_list:\n",
    "    words_tfidf.append(\" \".join(find_top_n(text,3)))"
   ]
  },
  {
   "cell_type": "code",
   "execution_count": 4,
   "metadata": {
    "colab": {},
    "colab_type": "code",
    "id": "67Q0jXSJubD2"
   },
   "outputs": [],
   "source": [
    "cos = torch.nn.CosineSimilarity(dim=0, eps=1e-6)"
   ]
  },
  {
   "cell_type": "code",
   "execution_count": 5,
   "metadata": {
    "colab": {},
    "colab_type": "code",
    "id": "OxEOKWDVwbQH"
   },
   "outputs": [],
   "source": [
    "# Creating flair embedding\n",
    "e4 = embedding()"
   ]
  },
  {
   "cell_type": "code",
   "execution_count": 6,
   "metadata": {
    "colab": {},
    "colab_type": "code",
    "id": "diS0WMzOvGFj"
   },
   "outputs": [],
   "source": [
    "# returns flair embedding of a text in torch tensor format\n",
    "def get_embedding(text):\n",
    "    sentence = Sentence(text)\n",
    "    e4.embed(sentence)\n",
    "    return sentence.embedding"
   ]
  },
  {
   "cell_type": "code",
   "execution_count": 7,
   "metadata": {
    "colab": {},
    "colab_type": "code",
    "id": "SHy4KoPJvID1"
   },
   "outputs": [
    {
     "name": "stderr",
     "output_type": "stream",
     "text": [
      "..\\torch\\csrc\\utils\\tensor_numpy.cpp:141: UserWarning: The given NumPy array is not writeable, and PyTorch does not support non-writeable tensors. This means you can write to the underlying (supposedly non-writeable) NumPy array using the tensor. You may want to copy the array to protect its data or make it writeable before converting it to a tensor. This type of warning will be suppressed for the rest of this program.\n"
     ]
    }
   ],
   "source": [
    "# labels to find for each document\n",
    "label_1 = get_embedding('selective laser melting')\n",
    "label_2 = get_embedding('direct metal laser sintering')\n",
    "\n",
    "label_3 = get_embedding('fused deposition modeling')\n",
    "label_4 = get_embedding('fused filament fabrication')\n",
    "label_5 = get_embedding('extrusion based additive manufacturing')\n",
    "\n",
    "metal = get_embedding('Metal')\n",
    "ceramic = get_embedding('Ceramic')\n",
    "polymer = get_embedding('Polymer')"
   ]
  },
  {
   "cell_type": "code",
   "execution_count": 8,
   "metadata": {
    "colab": {
     "base_uri": "https://localhost:8080/",
     "height": 244
    },
    "colab_type": "code",
    "id": "U-wATyGnszaA",
    "outputId": "b77fc91b-701c-41b2-b69a-8040785cff0b"
   },
   "outputs": [
    {
     "data": {
      "application/vnd.jupyter.widget-view+json": {
       "model_id": "6ec4dc475bbc413088c0cfb2cb1e5abb",
       "version_major": 2,
       "version_minor": 0
      },
      "text/plain": [
       "HBox(children=(IntProgress(value=0, max=10000), HTML(value='')))"
      ]
     },
     "metadata": {},
     "output_type": "display_data"
    },
    {
     "name": "stdout",
     "output_type": "stream",
     "text": [
      "\n"
     ]
    }
   ],
   "source": [
    "# embeddings for concatenated tf-idf sentences\n",
    "tfidf_sentences = [get_embedding(text) for text in tqdm(words_tfidf)]"
   ]
  },
  {
   "cell_type": "code",
   "execution_count": 9,
   "metadata": {
    "colab": {},
    "colab_type": "code",
    "id": "nTsA6A1-p-1f"
   },
   "outputs": [],
   "source": [
    "# Finding the cosine similarities between documents and labels\n",
    "\n",
    "label_list_1 = []   \n",
    "label_list_2 = []\n",
    "\n",
    "for text in tfidf_sentences:\n",
    "\n",
    "    lbl= []\n",
    "    \n",
    "    lbl.append(cos(text,label_1))\n",
    "    lbl.append(cos(text,label_2))\n",
    "    lbl.append(cos(text,label_3))\n",
    "    lbl.append(cos(text,label_4))\n",
    "    lbl.append(cos(text,label_5))\n",
    "\n",
    "    if lbl.index(max(lbl))==0 or lbl.index(max(lbl))==1:\n",
    "        label_list_1.append('Selective laser melting (SLM) or direct metal laser sintering (DMLS)')\n",
    "    else:\n",
    "        label_list_1.append('Fused deposition modeling (FDM) or fused filament fabrication (FFF) or extrusion based additive manufacturing')  \n",
    "\n",
    "for text in tfidf_sentences:\n",
    "\n",
    "    lbl= []\n",
    "    \n",
    "    lbl.append(cos(text,metal))\n",
    "    lbl.append(cos(text,ceramic))\n",
    "    lbl.append(cos(text,polymer))\n",
    "\n",
    "    if lbl.index(max(lbl))==0:\n",
    "        label_list_2.append('Metal')\n",
    "    elif lbl.index(max(lbl))==1:\n",
    "        label_list_2.append('Ceramic')\n",
    "    else:\n",
    "        label_list_2.append('Polymer')"
   ]
  },
  {
   "cell_type": "code",
   "execution_count": 11,
   "metadata": {
    "colab": {},
    "colab_type": "code",
    "id": "gz8Ny0U_3D5X"
   },
   "outputs": [],
   "source": [
    "d = {'Documents':abstract_list,'Labels 1':label_list_1,'Labels 2':label_list_2}\n",
    "df = pd.DataFrame(d)"
   ]
  },
  {
   "cell_type": "code",
   "execution_count": 12,
   "metadata": {
    "colab": {},
    "colab_type": "code",
    "id": "F96ARgRH3Eg8"
   },
   "outputs": [
    {
     "data": {
      "text/html": [
       "<div>\n",
       "<style scoped>\n",
       "    .dataframe tbody tr th:only-of-type {\n",
       "        vertical-align: middle;\n",
       "    }\n",
       "\n",
       "    .dataframe tbody tr th {\n",
       "        vertical-align: top;\n",
       "    }\n",
       "\n",
       "    .dataframe thead th {\n",
       "        text-align: right;\n",
       "    }\n",
       "</style>\n",
       "<table border=\"1\" class=\"dataframe\">\n",
       "  <thead>\n",
       "    <tr style=\"text-align: right;\">\n",
       "      <th></th>\n",
       "      <th>Documents</th>\n",
       "      <th>Labels 1</th>\n",
       "      <th>Labels 2</th>\n",
       "    </tr>\n",
       "  </thead>\n",
       "  <tbody>\n",
       "    <tr>\n",
       "      <td>0</td>\n",
       "      <td>we study the electronic states of giant single...</td>\n",
       "      <td>Selective laser melting (SLM) or direct metal ...</td>\n",
       "      <td>Polymer</td>\n",
       "    </tr>\n",
       "    <tr>\n",
       "      <td>1</td>\n",
       "      <td>the recursion and pathintegral methods are app...</td>\n",
       "      <td>Fused deposition modeling (FDM) or fused filam...</td>\n",
       "      <td>Polymer</td>\n",
       "    </tr>\n",
       "    <tr>\n",
       "      <td>2</td>\n",
       "      <td>we analytically study phonon transmission and ...</td>\n",
       "      <td>Fused deposition modeling (FDM) or fused filam...</td>\n",
       "      <td>Polymer</td>\n",
       "    </tr>\n",
       "    <tr>\n",
       "      <td>3</td>\n",
       "      <td>we study both analytically and numerically pho...</td>\n",
       "      <td>Selective laser melting (SLM) or direct metal ...</td>\n",
       "      <td>Metal</td>\n",
       "    </tr>\n",
       "    <tr>\n",
       "      <td>4</td>\n",
       "      <td>we present a model for thin film growth by par...</td>\n",
       "      <td>Fused deposition modeling (FDM) or fused filam...</td>\n",
       "      <td>Polymer</td>\n",
       "    </tr>\n",
       "  </tbody>\n",
       "</table>\n",
       "</div>"
      ],
      "text/plain": [
       "                                           Documents  \\\n",
       "0  we study the electronic states of giant single...   \n",
       "1  the recursion and pathintegral methods are app...   \n",
       "2  we analytically study phonon transmission and ...   \n",
       "3  we study both analytically and numerically pho...   \n",
       "4  we present a model for thin film growth by par...   \n",
       "\n",
       "                                            Labels 1 Labels 2  \n",
       "0  Selective laser melting (SLM) or direct metal ...  Polymer  \n",
       "1  Fused deposition modeling (FDM) or fused filam...  Polymer  \n",
       "2  Fused deposition modeling (FDM) or fused filam...  Polymer  \n",
       "3  Selective laser melting (SLM) or direct metal ...    Metal  \n",
       "4  Fused deposition modeling (FDM) or fused filam...  Polymer  "
      ]
     },
     "execution_count": 12,
     "metadata": {},
     "output_type": "execute_result"
    }
   ],
   "source": [
    "df.head()"
   ]
  },
  {
   "cell_type": "code",
   "execution_count": 14,
   "metadata": {},
   "outputs": [
    {
     "data": {
      "text/plain": [
       "Selective laser melting (SLM) or direct metal laser sintering (DMLS)                                             6147\n",
       "Fused deposition modeling (FDM) or fused filament fabrication (FFF) or extrusion based additive manufacturing    3853\n",
       "Name: Labels 1, dtype: int64"
      ]
     },
     "execution_count": 14,
     "metadata": {},
     "output_type": "execute_result"
    }
   ],
   "source": [
    "df[\"Labels 1\"].value_counts()"
   ]
  },
  {
   "cell_type": "code",
   "execution_count": 13,
   "metadata": {},
   "outputs": [
    {
     "data": {
      "text/plain": [
       "Polymer    5568\n",
       "Metal      2587\n",
       "Ceramic    1845\n",
       "Name: Labels 2, dtype: int64"
      ]
     },
     "execution_count": 13,
     "metadata": {},
     "output_type": "execute_result"
    }
   ],
   "source": [
    "df[\"Labels 2\"].value_counts()"
   ]
  },
  {
   "cell_type": "code",
   "execution_count": null,
   "metadata": {},
   "outputs": [],
   "source": []
  }
 ],
 "metadata": {
  "colab": {
   "collapsed_sections": [],
   "name": "data_labeling",
   "provenance": []
  },
  "kernelspec": {
   "display_name": "Python 3",
   "language": "python",
   "name": "python3"
  },
  "language_info": {
   "codemirror_mode": {
    "name": "ipython",
    "version": 3
   },
   "file_extension": ".py",
   "mimetype": "text/x-python",
   "name": "python",
   "nbconvert_exporter": "python",
   "pygments_lexer": "ipython3",
   "version": "3.7.4"
  }
 },
 "nbformat": 4,
 "nbformat_minor": 1
}
